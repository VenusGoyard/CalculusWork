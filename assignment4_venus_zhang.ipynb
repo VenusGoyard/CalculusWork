{
  "nbformat": 4,
  "nbformat_minor": 0,
  "metadata": {
    "colab": {
      "name": "assignment4_venus_zhang.ipynb",
      "provenance": [],
      "collapsed_sections": [],
      "include_colab_link": true
    },
    "kernelspec": {
      "name": "python3",
      "display_name": "Python 3"
    },
    "language_info": {
      "name": "python"
    }
  },
  "cells": [
    {
      "cell_type": "markdown",
      "metadata": {
        "id": "view-in-github",
        "colab_type": "text"
      },
      "source": [
        "<a href=\"https://colab.research.google.com/github/VenusGoyard/CalculusWork/blob/main/assignment4_venus_zhang.ipynb\" target=\"_parent\"><img src=\"https://colab.research.google.com/assets/colab-badge.svg\" alt=\"Open In Colab\"/></a>"
      ]
    },
    {
      "cell_type": "markdown",
      "metadata": {
        "id": "Rzz8tAnS5Ihr"
      },
      "source": [
        "# Assignment 4: Introduction to Differentiation"
      ]
    },
    {
      "cell_type": "markdown",
      "metadata": {
        "id": "tFFqhNso5rTk"
      },
      "source": [
        "Use the OpenStax calculus textbook, read through section 3.1 [here](https://openstax.org/books/calculus-volume-1/pages/3-1-defining-the-derivative) and answer questions from 3.1 Exercises:\n",
        "\n",
        "$$\\text{Problems}: 1, 5, 11, 13, 17, 23, 25, 31, 35, 37, 45$$\n",
        "\n",
        "Use python to verify your hand work and generate the following graphs for specified problems:\n",
        "\n",
        "- 1, 5: Graph of function and secant line\n",
        "- 11, 13, 17, 23, 25: Graph of function and tangent line at point $x=a$\n"
      ]
    },
    {
      "cell_type": "code",
      "metadata": {
        "id": "z3tqJTMz6uVm"
      },
      "source": [
        "import matplotlib.pyplot as plt\n",
        "import numpy as np\n",
        "import pandas as pd\n",
        "import sympy as sy"
      ],
      "execution_count": null,
      "outputs": []
    },
    {
      "cell_type": "markdown",
      "metadata": {
        "id": "kceEpfiD60wq"
      },
      "source": [
        "For extra practice try using `sympy` and its `diff` function to find derivatives -- be careful moving from numbers to symbols and back!"
      ]
    },
    {
      "cell_type": "markdown",
      "metadata": {
        "id": "bAWpmt3s749U"
      },
      "source": [
        "1.$$𝑓(𝑥)=4𝑥+7;𝑥1=2,𝑥2=5$$"
      ]
    },
    {
      "cell_type": "code",
      "metadata": {
        "colab": {
          "base_uri": "https://localhost:8080/",
          "height": 267
        },
        "id": "qZorUm83NU--",
        "outputId": "06c2e8b6-4d38-4b3b-eb56-4f41f668c876"
      },
      "source": [
        "def main():\n",
        "    x = np.linspace(-10,10,100)\n",
        "    p1 = 2\n",
        "    p2 = 5\n",
        "\n",
        "    y1 = main_func(x)\n",
        "    y2 = calculate_secant(x, y1, p1, p2)\n",
        "    plot(x, y1, y2)\n",
        "    plt.show()\n",
        "\n",
        "def main_func(x):\n",
        "    return 4*x+7\n",
        "\n",
        "def calculate_secant(x, y, p1, p2):\n",
        "    points = [p1, p2]\n",
        "    m, b = np.polyfit(x[points], y[points], 1)\n",
        "    return m * x + b\n",
        "\n",
        "def plot(x, y1, y2):\n",
        "    plt.plot(x, y1)\n",
        "    plt.plot(x, y2)\n",
        "\n",
        "main()"
      ],
      "execution_count": null,
      "outputs": [
        {
          "output_type": "display_data",
          "data": {
            "image/png": "[encoded data removed]",
            "text/plain": [
              "<Figure size 432x288 with 1 Axes>"
            ]
          },
          "metadata": {
            "needs_background": "light"
          }
        }
      ]
    },
    {
      "cell_type": "markdown",
      "metadata": {
        "id": "chcvWwaZKdlf"
      },
      "source": [
        "5. $$𝑓(𝑥)=4/(3𝑥−1);𝑥1=1,𝑥2=3$$"
      ]
    },
    {
      "cell_type": "code",
      "metadata": {
        "colab": {
          "base_uri": "https://localhost:8080/",
          "height": 268
        },
        "id": "QJ4WBq6_P02S",
        "outputId": "fb70ad97-72ae-4d49-968b-cf7ff3879720"
      },
      "source": [
        "def main():\n",
        "    x = np.linspace(-10,10,100)\n",
        "    p1 = 1\n",
        "    p2 = 3\n",
        "\n",
        "    y1 = main_func(x)\n",
        "    y2 = calculate_secant(x, y1, p1, p2)\n",
        "    plot(x, y1, y2)\n",
        "    plt.show()\n",
        "\n",
        "def main_func(x):\n",
        "    return 4/(3*x - 1)\n",
        "\n",
        "def calculate_secant(x, y, p1, p2):\n",
        "    points = [p1, p2]\n",
        "    m, b = np.polyfit(x[points], y[points], 1)\n",
        "    return m * x + b\n",
        "\n",
        "def plot(x, y1, y2):\n",
        "    plt.plot(x, y1)\n",
        "    plt.plot(x, y2)\n",
        "\n",
        "main()"
      ],
      "execution_count": null,
      "outputs": [
        {
          "output_type": "display_data",
          "data": {
            "image/png": "[encoded data removed]",
            "text/plain": [
              "<Figure size 432x288 with 1 Axes>"
            ]
          },
          "metadata": {
            "needs_background": "light"
          }
        }
      ]
    },
    {
      "cell_type": "markdown",
      "metadata": {
        "id": "S6TATzLXLrR2"
      },
      "source": [
        "11.$$𝑓(𝑥)=3−4𝑥,𝑎=2$$"
      ]
    },
    {
      "cell_type": "code",
      "metadata": {
        "colab": {
          "base_uri": "https://localhost:8080/",
          "height": 37
        },
        "id": "HWSvrkKPm4r0",
        "outputId": "730d489a-7a9b-4524-e93a-33eb1bc03e18"
      },
      "source": [
        "x = sy.Symbol('x')\n",
        "\n",
        "def f(x): \n",
        "    return 3 - 4*x\n",
        "    \n",
        "sy.diff(f(x), x)"
      ],
      "execution_count": null,
      "outputs": [
        {
          "output_type": "execute_result",
          "data": {
            "text/latex": "$\\displaystyle -4$",
            "text/plain": [
              "-4"
            ]
          },
          "metadata": {},
          "execution_count": 103
        }
      ]
    },
    {
      "cell_type": "code",
      "metadata": {
        "id": "z9ZI0Mcr7E2N",
        "colab": {
          "base_uri": "https://localhost:8080/",
          "height": 286
        },
        "outputId": "d9150e16-280e-42ae-cdd5-27aae6886d95"
      },
      "source": [
        "def f(x): \n",
        "    return 3-4*x\n",
        "\n",
        "def slope(x): \n",
        "    return -4\n",
        "\n",
        "x = np.linspace(-5,5,100)\n",
        "\n",
        "x1 = 2\n",
        "y1 = f(x1)\n",
        "\n",
        "\n",
        "def line(x, x1, y1):\n",
        "    return slope(x1)*(x - x1) + y1\n",
        "\n",
        "xrange = np.linspace(x1-1, x1+1, 10)\n",
        "\n",
        "plt.figure()\n",
        "plt.plot(x, f(x))\n",
        "plt.plot(xrange, line(xrange, x1, y1))"
      ],
      "execution_count": null,
      "outputs": [
        {
          "output_type": "execute_result",
          "data": {
            "text/plain": [
              "[<matplotlib.lines.Line2D at 0x7f9400861410>]"
            ]
          },
          "metadata": {},
          "execution_count": 96
        },
        {
          "output_type": "display_data",
          "data": {
            "image/png": "[encoded data removed]",
            "text/plain": [
              "<Figure size 432x288 with 1 Axes>"
            ]
          },
          "metadata": {
            "needs_background": "light"
          }
        }
      ]
    },
    {
      "cell_type": "markdown",
      "metadata": {
        "id": "wH20AVeIiwqN"
      },
      "source": [
        "13 .  $$𝑓(𝑥)=𝑥^2+𝑥,𝑎=1$$"
      ]
    },
    {
      "cell_type": "code",
      "metadata": {
        "colab": {
          "base_uri": "https://localhost:8080/",
          "height": 38
        },
        "id": "pQG6zl6pmyAs",
        "outputId": "83f0982a-a975-4e40-8af3-e35fc290d363"
      },
      "source": [
        "x = sy.Symbol('x')\n",
        "\n",
        "def f(x): \n",
        "    return x**2+x\n",
        "    \n",
        "sy.diff(f(x), x)"
      ],
      "execution_count": null,
      "outputs": [
        {
          "output_type": "execute_result",
          "data": {
            "text/latex": "$\\displaystyle 2 x + 1$",
            "text/plain": [
              "2*x + 1"
            ]
          },
          "metadata": {},
          "execution_count": 102
        }
      ]
    },
    {
      "cell_type": "code",
      "metadata": {
        "id": "ouGIbmdU7Ez7",
        "colab": {
          "base_uri": "https://localhost:8080/",
          "height": 282
        },
        "outputId": "e8b95cf2-3d90-4d7a-ac82-28ad20579fbe"
      },
      "source": [
        "def f(x): \n",
        "    return x**2+x\n",
        "\n",
        "def slope(x): \n",
        "    return 2*x+1\n",
        "\n",
        "x = np.linspace(-5,5,100)\n",
        "\n",
        "x1 = 1\n",
        "y1 = f(x1)\n",
        "\n",
        "\n",
        "def line(x, x1, y1):\n",
        "    return slope(x1)*(x - x1) + y1\n",
        "\n",
        "xrange = np.linspace(x1-5, x1+5, 10)\n",
        "\n",
        "plt.figure()\n",
        "plt.plot(x, f(x))\n",
        "plt.plot(xrange, line(xrange, x1, y1))"
      ],
      "execution_count": null,
      "outputs": [
        {
          "output_type": "execute_result",
          "data": {
            "text/plain": [
              "[<matplotlib.lines.Line2D at 0x7f93ffb57690>]"
            ]
          },
          "metadata": {},
          "execution_count": 111
        },
        {
          "output_type": "display_data",
          "data": {
            "image/png": "[encoded data removed]",
            "text/plain": [
              "<Figure size 432x288 with 1 Axes>"
            ]
          },
          "metadata": {
            "needs_background": "light"
          }
        }
      ]
    },
    {
      "cell_type": "markdown",
      "metadata": {
        "id": "nOlZTHA1mNeI"
      },
      "source": [
        "17.$$𝑓(𝑥)=2−3𝑥^2,𝑎=−2$$"
      ]
    },
    {
      "cell_type": "code",
      "metadata": {
        "id": "bgQ90PQq7EvW",
        "colab": {
          "base_uri": "https://localhost:8080/",
          "height": 38
        },
        "outputId": "26aafb0e-41fa-462f-b7c6-a14e027e822a"
      },
      "source": [
        "x = sy.Symbol('x')\n",
        "\n",
        "def f(x): \n",
        "    return 2 - 3*x**2\n",
        "\n",
        "sy.diff(f(x), x)"
      ],
      "execution_count": null,
      "outputs": [
        {
          "output_type": "execute_result",
          "data": {
            "text/latex": "$\\displaystyle - 6 x$",
            "text/plain": [
              "-6*x"
            ]
          },
          "metadata": {},
          "execution_count": 99
        }
      ]
    },
    {
      "cell_type": "code",
      "metadata": {
        "id": "stBPBRbk7Es5",
        "colab": {
          "base_uri": "https://localhost:8080/",
          "height": 282
        },
        "outputId": "ebb5bde3-3e06-4fc5-a6ba-793a98e8c0f4"
      },
      "source": [
        "def f(x): \n",
        "    return 2 - 3*x**2\n",
        "    \n",
        "def slope(x): \n",
        "    return -6*x\n",
        "\n",
        "x = np.linspace(-5,5,100)\n",
        "\n",
        "x1 = -2\n",
        "y1 = f(x1)\n",
        "\n",
        "\n",
        "def line(x, x1, y1):\n",
        "    return slope(x1)*(x - x1) + y1\n",
        "\n",
        "xrange = np.linspace(x1-5, x1+5, 10)\n",
        "\n",
        "plt.figure()\n",
        "plt.plot(x, f(x))\n",
        "plt.plot(xrange, line(xrange, x1, y1))"
      ],
      "execution_count": null,
      "outputs": [
        {
          "output_type": "execute_result",
          "data": {
            "text/plain": [
              "[<matplotlib.lines.Line2D at 0x7f93ffee9910>]"
            ]
          },
          "metadata": {},
          "execution_count": 110
        },
        {
          "output_type": "display_data",
          "data": {
            "image/png": "[encoded data removed]",
            "text/plain": [
              "<Figure size 432x288 with 1 Axes>"
            ]
          },
          "metadata": {
            "needs_background": "light"
          }
        }
      ]
    },
    {
      "cell_type": "markdown",
      "metadata": {
        "id": "I50Melmlm9Wa"
      },
      "source": [
        "23. $$𝑓(𝑥)=𝑥^2+9𝑥,𝑎=2$$"
      ]
    },
    {
      "cell_type": "code",
      "metadata": {
        "id": "I9IWjE2r7ErY",
        "colab": {
          "base_uri": "https://localhost:8080/",
          "height": 38
        },
        "outputId": "f2ef9ee0-b07e-49f2-f6ef-351b8432a192"
      },
      "source": [
        "x = sy.Symbol('x')\n",
        "\n",
        "def f(x): \n",
        "    return x**2 + 9*x\n",
        "\n",
        "sy.diff(f(x), x)"
      ],
      "execution_count": null,
      "outputs": [
        {
          "output_type": "execute_result",
          "data": {
            "text/latex": "$\\displaystyle 2 x + 9$",
            "text/plain": [
              "2*x + 9"
            ]
          },
          "metadata": {},
          "execution_count": 104
        }
      ]
    },
    {
      "cell_type": "code",
      "metadata": {
        "id": "9p0SQUSv7Eo2",
        "colab": {
          "base_uri": "https://localhost:8080/",
          "height": 282
        },
        "outputId": "0fc5441d-64a6-4402-d7cd-741ef2353a74"
      },
      "source": [
        "def f(x): \n",
        "    return x**2 + 9*x\n",
        "    \n",
        "def slope(x): \n",
        "    return 2*x + 9\n",
        "\n",
        "x = np.linspace(-5,5,100)\n",
        "\n",
        "x1 = 2\n",
        "y1 = f(x1)\n",
        "\n",
        "\n",
        "def line(x, x1, y1):\n",
        "    return slope(x1)*(x - x1) + y1\n",
        "\n",
        "xrange = np.linspace(x1-3, x1+3, 10)\n",
        "\n",
        "plt.figure()\n",
        "plt.plot(x, f(x))\n",
        "plt.plot(xrange, line(xrange, x1, y1))"
      ],
      "execution_count": null,
      "outputs": [
        {
          "output_type": "execute_result",
          "data": {
            "text/plain": [
              "[<matplotlib.lines.Line2D at 0x7f9400363910>]"
            ]
          },
          "metadata": {},
          "execution_count": 109
        },
        {
          "output_type": "display_data",
          "data": {
            "image/png": "[encoded data removed]",
            "text/plain": [
              "<Figure size 432x288 with 1 Axes>"
            ]
          },
          "metadata": {
            "needs_background": "light"
          }
        }
      ]
    },
    {
      "cell_type": "markdown",
      "metadata": {
        "id": "RNhXYmcjnxqp"
      },
      "source": [
        "25. $$𝑓(𝑥)=√x,𝑎=4$$"
      ]
    },
    {
      "cell_type": "code",
      "metadata": {
        "id": "PJZI8jEo7Ema",
        "colab": {
          "base_uri": "https://localhost:8080/",
          "height": 55
        },
        "outputId": "86ba0697-ba77-4624-d192-0e71e453c739"
      },
      "source": [
        "x = sy.Symbol('x')\n",
        "\n",
        "def f(x): \n",
        "    return sy.sqrt(x)\n",
        "\n",
        "sy.diff(f(x), x)"
      ],
      "execution_count": null,
      "outputs": [
        {
          "output_type": "execute_result",
          "data": {
            "text/latex": "$\\displaystyle \\frac{1}{2 \\sqrt{x}}$",
            "text/plain": [
              "1/(2*sqrt(x))"
            ]
          },
          "metadata": {},
          "execution_count": 112
        }
      ]
    },
    {
      "cell_type": "code",
      "metadata": {
        "id": "N166s2UR7Ejw",
        "colab": {
          "base_uri": "https://localhost:8080/",
          "height": 316
        },
        "outputId": "867cc179-ef3c-40ad-ac9c-9be56154c59c"
      },
      "source": [
        "def f(x): \n",
        "    return np.sqrt(x)\n",
        "    \n",
        "def slope(x): \n",
        "    return 1/(2*np.sqrt(x))\n",
        "\n",
        "x = np.linspace(-5,5,100)\n",
        "\n",
        "x1 = 4\n",
        "y1 = f(x1)\n",
        "\n",
        "\n",
        "def line(x, x1, y1):\n",
        "    return slope(x1)*(x - x1) + y1\n",
        "\n",
        "xrange = np.linspace(x1-4, x1+1, 10)\n",
        "\n",
        "plt.figure()\n",
        "plt.plot(x, f(x))\n",
        "plt.plot(xrange, line(xrange, x1, y1))"
      ],
      "execution_count": null,
      "outputs": [
        {
          "output_type": "stream",
          "name": "stderr",
          "text": [
            "/usr/local/lib/python3.7/dist-packages/ipykernel_launcher.py:2: RuntimeWarning: invalid value encountered in sqrt\n",
            "  \n"
          ]
        },
        {
          "output_type": "execute_result",
          "data": {
            "text/plain": [
              "[<matplotlib.lines.Line2D at 0x7f93ff0c6fd0>]"
            ]
          },
          "metadata": {},
          "execution_count": 117
        },
        {
          "output_type": "display_data",
          "data": {
            "image/png": "[encoded data removed]",
            "text/plain": [
              "<Figure size 432x288 with 1 Axes>"
            ]
          },
          "metadata": {
            "needs_background": "light"
          }
        }
      ]
    },
    {
      "cell_type": "markdown",
      "metadata": {
        "id": "GQkgjtMsobZH"
      },
      "source": [
        "31. $$𝑓(𝑥)=𝑥^2+3𝑥+4,𝑃(1,8)$$"
      ]
    },
    {
      "cell_type": "markdown",
      "metadata": {
        "id": "rd6N_nvjp-Hx"
      },
      "source": [
        "Answer:\n",
        "\n",
        "a. \n",
        "\n",
        "i: 5.100000\n",
        "\n",
        "ii: 5.010000\n",
        "\n",
        "iii: 5.001000\n",
        "iv: 5.000100\n",
        "v: 5.000010\n",
        "vi: 5.000001\n",
        "vii: 4.900000\n",
        "viii：4.990000\n",
        "ix：4.999000\n",
        "x：4.999900\n",
        "xi： 4.999990\n",
        "x： 4.999999 \n",
        "\n",
        "b. 5 \n",
        "\n",
        "c.\n",
        "𝑦=5𝑥+3"
      ]
    },
    {
      "cell_type": "markdown",
      "metadata": {
        "id": "qVMntu9vqdBp"
      },
      "source": [
        "35. \n",
        "$$𝑠(𝑡)=1/3𝑡+5$$\n",
        "\n",
        "a. 1/3\n",
        "\n",
        "b. 0.3\n",
        "\n",
        "c. 0.3 = 1.3 m/s"
      ]
    },
    {
      "cell_type": "markdown",
      "metadata": {
        "id": "aa3X80Uvq25y"
      },
      "source": [
        "37. $$𝑠(𝑡)=2𝑡^3+3$$\n",
        "\n",
        "a. $$2(ℎ^2+6ℎ+12)$$\n",
        "\n",
        "b.\n",
        "\n",
        "i. 25.22\n",
        "\n",
        "ii. 24.12\n",
        "\n",
        "iii. 24.01\n",
        "\n",
        "iv. 24\n",
        "\n",
        "c. 24"
      ]
    },
    {
      "cell_type": "markdown",
      "metadata": {
        "id": "xndnjAOdrkQ2"
      },
      "source": [
        "45. $$𝑠(𝑡)=8𝑡^2−1/6𝑡^3$$\n",
        "\n",
        "a.  \n",
        "\n",
        "(i)61.7244  \n",
        "\n",
        "(ii)61.0725  \n",
        "\n",
        "(iii)61.0072  \n",
        "\n",
        "(iv)61.0007  \n",
        "\n",
        "b. 61"
      ]
    }
  ]
}
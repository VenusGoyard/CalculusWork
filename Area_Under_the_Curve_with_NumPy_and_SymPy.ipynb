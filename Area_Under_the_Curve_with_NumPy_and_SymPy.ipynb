{
  "nbformat": 4,
  "nbformat_minor": 0,
  "metadata": {
    "colab": {
      "name": "Area Under the Curve with NumPy and SymPy.ipynb",
      "provenance": [],
      "authorship_tag": "ABX9TyMx4R5Oiaoe4UHfJO14PkR6",
      "include_colab_link": true
    },
    "kernelspec": {
      "name": "python3",
      "display_name": "Python 3"
    },
    "language_info": {
      "name": "python"
    }
  },
  "cells": [
    {
      "cell_type": "markdown",
      "metadata": {
        "id": "view-in-github",
        "colab_type": "text"
      },
      "source": [
        "<a href=\"https://colab.research.google.com/github/VenusGoyard/CalculusWork/blob/main/Area_Under_the_Curve_with_NumPy_and_SymPy.ipynb\" target=\"_parent\"><img src=\"https://colab.research.google.com/assets/colab-badge.svg\" alt=\"Open In Colab\"/></a>"
      ]
    },
    {
      "cell_type": "code",
      "metadata": {
        "id": "f-Lv-sH07Q_3"
      },
      "source": [
        "import matplotlib.pyplot as plt\n",
        "import numpy as np\n",
        "import pandas as pd\n",
        "from scipy.integrate import quad"
      ],
      "execution_count": null,
      "outputs": []
    },
    {
      "cell_type": "code",
      "metadata": {
        "id": "kEsEB4lv7UDZ"
      },
      "source": [
        "#define y = x\n",
        "def f(x): return x "
      ],
      "execution_count": null,
      "outputs": []
    },
    {
      "cell_type": "code",
      "metadata": {
        "id": "0EozOlXo7XWA"
      },
      "source": [
        "#define y = sqrt(x)\n",
        "def g(x): return np.sqrt(x)"
      ],
      "execution_count": null,
      "outputs": []
    },
    {
      "cell_type": "code",
      "metadata": {
        "colab": {
          "base_uri": "https://localhost:8080/",
          "height": 265
        },
        "id": "4YSm93hf7eP-",
        "outputId": "b6a95313-6dfd-4a0b-9dfd-a022256c10f2"
      },
      "source": [
        "#plot on 0,1 \n",
        "x = np.linspace(0, 1, 100)\n",
        "plt.plot(x, f(x), label = 'f')\n",
        "plt.plot(x, g(x), label = 'g')\n",
        "plt. legend();"
      ],
      "execution_count": null,
      "outputs": [
        {
          "output_type": "display_data",
          "data": {
            "image/png": "[encoded data removed]",
            "text/plain": [
              "<Figure size 432x288 with 1 Axes>"
            ]
          },
          "metadata": {
            "needs_background": "light"
          }
        }
      ]
    },
    {
      "cell_type": "code",
      "metadata": {
        "id": "p1vibxXk7reA"
      },
      "source": [
        "#area between?"
      ],
      "execution_count": null,
      "outputs": []
    },
    {
      "cell_type": "markdown",
      "metadata": {
        "id": "hhyGqUGd7vRR"
      },
      "source": [
        "area under g-f = area under g minus area under f "
      ]
    },
    {
      "cell_type": "code",
      "metadata": {
        "id": "2U73Y4Wh8B30"
      },
      "source": [
        "def area(x): return g(x) - f(x)"
      ],
      "execution_count": null,
      "outputs": []
    },
    {
      "cell_type": "code",
      "metadata": {
        "colab": {
          "base_uri": "https://localhost:8080/"
        },
        "id": "hOSwOTb-70up",
        "outputId": "96a7e62f-779e-4908-828e-7c7b97dfb044"
      },
      "source": [
        "quad(area, 0, 1)"
      ],
      "execution_count": null,
      "outputs": [
        {
          "output_type": "execute_result",
          "data": {
            "text/plain": [
              "(0.1666666666666667, 1.8503717077085948e-16)"
            ]
          },
          "metadata": {},
          "execution_count": 9
        }
      ]
    },
    {
      "cell_type": "markdown",
      "metadata": {
        "id": "zSEolYaQ8j-E"
      },
      "source": [
        "A different way of doing this without quad:"
      ]
    },
    {
      "cell_type": "code",
      "metadata": {
        "id": "RczKJ-GO8mlZ"
      },
      "source": [
        "import sympy as sy"
      ],
      "execution_count": null,
      "outputs": []
    },
    {
      "cell_type": "code",
      "metadata": {
        "id": "B8ArBAfz81G7"
      },
      "source": [
        "x_the_symbol = sy.Symbol('x')"
      ],
      "execution_count": null,
      "outputs": []
    },
    {
      "cell_type": "markdown",
      "metadata": {
        "id": "2NBc9YhT9AS1"
      },
      "source": [
        "Consider $𝑦=√x$ and $𝑦=x^2$"
      ]
    },
    {
      "cell_type": "code",
      "metadata": {
        "id": "LiGrhd4E9MBf"
      },
      "source": [
        "#define functions \n",
        "def f(x): return x**.5\n",
        "def g(x): return x**2"
      ],
      "execution_count": null,
      "outputs": []
    },
    {
      "cell_type": "code",
      "metadata": {
        "colab": {
          "base_uri": "https://localhost:8080/",
          "height": 265
        },
        "id": "iYIEV0mk9RWm",
        "outputId": "ff8eb8ce-0955-442d-b6b2-6086efff696a"
      },
      "source": [
        "#plot \n",
        "x_the_numbers = np.linspace(0, 1, 100)\n",
        "plt.plot(x_the_numbers, f(x_the_numbers), label ='f')\n",
        "plt.plot(x_the_numbers, g(x_the_numbers), label = 'g')\n",
        "plt. legend();"
      ],
      "execution_count": null,
      "outputs": [
        {
          "output_type": "display_data",
          "data": {
            "image/png": "[encoded data removed]",
            "text/plain": [
              "<Figure size 432x288 with 1 Axes>"
            ]
          },
          "metadata": {
            "needs_background": "light"
          }
        }
      ]
    },
    {
      "cell_type": "code",
      "metadata": {
        "colab": {
          "base_uri": "https://localhost:8080/",
          "height": 37
        },
        "id": "mXiIk53i-Kog",
        "outputId": "d7584be5-157f-46e5-c36f-a7d32bbe4e36"
      },
      "source": [
        "#domain?\n",
        "sy.integrate(f(x_the_symbol) - g(x_the_symbol), (x, 0, 1))"
      ],
      "execution_count": null,
      "outputs": [
        {
          "output_type": "execute_result",
          "data": {
            "text/latex": "$\\displaystyle 0.333333333333333$",
            "text/plain": [
              "0.333333333333333"
            ]
          },
          "metadata": {},
          "execution_count": 23
        }
      ]
    },
    {
      "cell_type": "markdown",
      "metadata": {
        "id": "d7gD6uGF-4vX"
      },
      "source": [
        "𝑓(𝑥)=sin𝑥  and 𝑔(𝑥)=cos𝑥 on [0,𝜋]"
      ]
    },
    {
      "cell_type": "code",
      "metadata": {
        "id": "BwWL6HF6-7x6"
      },
      "source": [
        "def f(x):\n",
        "  return np.sin(x)"
      ],
      "execution_count": null,
      "outputs": []
    },
    {
      "cell_type": "code",
      "metadata": {
        "id": "oJ3cpHHh_I0J"
      },
      "source": [
        "def g(x):\n",
        "  return np.cos(x)"
      ],
      "execution_count": null,
      "outputs": []
    },
    {
      "cell_type": "code",
      "metadata": {
        "id": "jLBEP8bV_PVB"
      },
      "source": [
        "def area(x): return g(x) - f(x)"
      ],
      "execution_count": null,
      "outputs": []
    },
    {
      "cell_type": "code",
      "metadata": {
        "colab": {
          "base_uri": "https://localhost:8080/"
        },
        "id": "Den_QDXM_zEJ",
        "outputId": "32eef338-6243-45d6-d9f6-88c5bf795697"
      },
      "source": [
        "quad(area, 0, 1)"
      ],
      "execution_count": null,
      "outputs": [
        {
          "output_type": "execute_result",
          "data": {
            "text/plain": [
              "(0.3817732906760362, 4.9524416669008094e-15)"
            ]
          },
          "metadata": {},
          "execution_count": 36
        }
      ]
    },
    {
      "cell_type": "markdown",
      "metadata": {
        "id": "BqqWVlBJARA3"
      },
      "source": [
        "using sympy"
      ]
    },
    {
      "cell_type": "code",
      "metadata": {
        "id": "UV-6R734CMlS"
      },
      "source": [
        "import sympy as sy"
      ],
      "execution_count": null,
      "outputs": []
    },
    {
      "cell_type": "code",
      "metadata": {
        "id": "0-Z2lttQAO7p"
      },
      "source": [
        "def f_sym(x): return sy.sin(x)\n",
        "def g_sym(x): return sy.cos(x)\n",
        "x_sy = sy.Symbol('x')"
      ],
      "execution_count": null,
      "outputs": []
    },
    {
      "cell_type": "code",
      "metadata": {
        "colab": {
          "base_uri": "https://localhost:8080/",
          "height": 38
        },
        "id": "P7kJinHMCLmp",
        "outputId": "d13ef025-3575-470e-8a50-da68e5f4fe51"
      },
      "source": [
        "sy.integrate(f_sym(x_sy) - g_sym(x_sy), (x_sy, 0, sy.pi/4))"
      ],
      "execution_count": null,
      "outputs": [
        {
          "output_type": "execute_result",
          "data": {
            "text/latex": "$\\displaystyle 1 - \\sqrt{2}$",
            "text/plain": [
              "1 - sqrt(2)"
            ]
          },
          "metadata": {},
          "execution_count": 61
        }
      ]
    },
    {
      "cell_type": "code",
      "metadata": {
        "colab": {
          "base_uri": "https://localhost:8080/",
          "height": 47
        },
        "id": "OYXvMLCwAg1T",
        "outputId": "8d484ad3-d01c-4ca5-e442-96bc24a28a7d"
      },
      "source": [
        "sy.integrate(g_sym(x_sy) - f_sym(x_sy), (x_sy, 0, sy.pi/4, sy.pi))"
      ],
      "execution_count": null,
      "outputs": [
        {
          "output_type": "execute_result",
          "data": {
            "text/latex": "$\\displaystyle - \\frac{\\pi}{4}$",
            "text/plain": [
              "-pi/4"
            ]
          },
          "metadata": {},
          "execution_count": 62
        }
      ]
    }
  ]
}
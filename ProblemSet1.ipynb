{
  "nbformat": 4,
  "nbformat_minor": 0,
  "metadata": {
    "colab": {
      "name": "ProblemSet1_VenusZhang.ipynb",
      "provenance": [],
      "collapsed_sections": [],
      "authorship_tag": "ABX9TyOsHWc88hT/4r+GACbscNgt",
      "include_colab_link": true
    },
    "kernelspec": {
      "name": "python3",
      "display_name": "Python 3"
    },
    "language_info": {
      "name": "python"
    }
  },
  "cells": [
    {
      "cell_type": "markdown",
      "metadata": {
        "id": "view-in-github",
        "colab_type": "text"
      },
      "source": [
        "<a href=\"https://colab.research.google.com/github/VenusGoyard/CalculusWork/blob/main/ProblemSet1.ipynb\" target=\"_parent\"><img src=\"https://colab.research.google.com/assets/colab-badge.svg\" alt=\"Open In Colab\"/></a>"
      ]
    },
    {
      "cell_type": "markdown",
      "metadata": {
        "id": "8jOeZL4SU_yO"
      },
      "source": [
        "###Problem Set 1 - Functions"
      ]
    },
    {
      "cell_type": "markdown",
      "metadata": {
        "id": "war-g8wzVDlv"
      },
      "source": [
        "##Problem 1\n",
        "Define a function $𝑓(𝑥)=𝑥^2$\n",
        "\n",
        "Create a plot of this function on the domain 𝑥∈[−3,3].\n",
        "\n",
        "Where does 𝑓(𝑥)=0?\n",
        "\n"
      ]
    },
    {
      "cell_type": "code",
      "metadata": {
        "id": "E1bnB7EOVIks"
      },
      "source": [
        "%matplotlib inline \n",
        "import matplotlib.pyplot as plt\n",
        "import numpy as np"
      ],
      "execution_count": null,
      "outputs": []
    },
    {
      "cell_type": "code",
      "metadata": {
        "id": "TeUZlgqI47ZP"
      },
      "source": [
        "def f(x): return x**2\n",
        "x = np.linspace (-3, 3, 1000)"
      ],
      "execution_count": null,
      "outputs": []
    },
    {
      "cell_type": "code",
      "metadata": {
        "colab": {
          "base_uri": "https://localhost:8080/",
          "height": 296
        },
        "id": "wjEiTjxr5Xl_",
        "outputId": "29fe6e37-a4c6-47e4-8073-920d227d881d"
      },
      "source": [
        "plt.plot (x, f(x))\n",
        "plt.xlabel('$x$')\n",
        "plt.ylabel('$f(x)$')"
      ],
      "execution_count": null,
      "outputs": [
        {
          "output_type": "execute_result",
          "data": {
            "text/plain": [
              "Text(0, 0.5, '$f(x)$')"
            ]
          },
          "metadata": {},
          "execution_count": 20
        },
        {
          "output_type": "display_data",
          "data": {
            "image/png": "[encoded data removed]",
            "text/plain": [
              "<Figure size 432x288 with 1 Axes>"
            ]
          },
          "metadata": {
            "needs_background": "light"
          }
        }
      ]
    },
    {
      "cell_type": "markdown",
      "metadata": {
        "id": "vm5svWin6LGg"
      },
      "source": [
        "when $f(x) = 0$\n",
        "\n",
        "because $f(x) = x^2$\n",
        "\n",
        "$x^2=0$\n",
        "\n",
        "**x=0**\n",
        "\n"
      ]
    },
    {
      "cell_type": "markdown",
      "metadata": {
        "id": "DBxpkWf-60-C"
      },
      "source": [
        "##Problem 2\n",
        "Define a function $𝑓(𝑥)=𝑥^2+2𝑥−3$\n",
        "\n",
        "Plot this function on the domain $𝑥∈[−2,5]$\n",
        "\n",
        "Where does $𝑓(𝑥)=0$? How can you be sure?\n",
        "\n"
      ]
    },
    {
      "cell_type": "code",
      "metadata": {
        "id": "Hy6RIjOO7RR4"
      },
      "source": [
        "def f(x): \n",
        "  return x**2 + 2*x - 3\n",
        "  x = np.linspace (-2, 5, 1000)"
      ],
      "execution_count": null,
      "outputs": []
    },
    {
      "cell_type": "code",
      "metadata": {
        "colab": {
          "base_uri": "https://localhost:8080/",
          "height": 296
        },
        "id": "EdijELFj74tz",
        "outputId": "c80219fd-264d-4c90-e3ae-699531d933b4"
      },
      "source": [
        "plt.plot (x, f(x))\n",
        "plt.xlabel('$x$')\n",
        "plt.ylabel('$f(x)$')"
      ],
      "execution_count": null,
      "outputs": [
        {
          "output_type": "execute_result",
          "data": {
            "text/plain": [
              "Text(0, 0.5, '$f(x)$')"
            ]
          },
          "metadata": {},
          "execution_count": 19
        },
        {
          "output_type": "display_data",
          "data": {
            "image/png": "[encoded data removed]",
            "text/plain": [
              "<Figure size 432x288 with 1 Axes>"
            ]
          },
          "metadata": {
            "needs_background": "light"
          }
        }
      ]
    },
    {
      "cell_type": "markdown",
      "metadata": {
        "id": "d4bsW1XX9uDv"
      },
      "source": [
        "$f(x) = x^2+2x-3$\n",
        "\n",
        "$x^2+2x-3=0$\n",
        "\n",
        "therefore with cross multiply\n",
        "\n",
        "$(x+3)(x-1) = x^2+2x-3 = 0$\n",
        "\n",
        "**The coordinates are (-3 , 1) where $f(x)$ = 0**"
      ]
    },
    {
      "cell_type": "markdown",
      "metadata": {
        "id": "EMIfzSRk-V2b"
      },
      "source": [
        "##Problem 3\n",
        "Define a function $ℎ(𝑥)=1/(𝑥+4)$\n",
        "\n",
        "Plot this function on the domain $𝑥∈[−5,−3]$. Is the function defined everywhere? Explain."
      ]
    },
    {
      "cell_type": "code",
      "metadata": {
        "id": "I0LrcmEB-jPD"
      },
      "source": [
        "def h(x):\n",
        "  return 1/(x+4)"
      ],
      "execution_count": null,
      "outputs": []
    },
    {
      "cell_type": "code",
      "metadata": {
        "colab": {
          "base_uri": "https://localhost:8080/",
          "height": 265
        },
        "id": "x2Kwin66-mXv",
        "outputId": "eeb192e0-95e3-4193-862f-f8a630bc500b"
      },
      "source": [
        "plt.plot (x, h(x))\n",
        "x=np.linspace (-5, -3, 1000)"
      ],
      "execution_count": null,
      "outputs": [
        {
          "output_type": "display_data",
          "data": {
            "image/png": "[encoded data removed]",
            "text/plain": [
              "<Figure size 432x288 with 1 Axes>"
            ]
          },
          "metadata": {
            "needs_background": "light"
          }
        }
      ]
    },
    {
      "cell_type": "markdown",
      "metadata": {
        "id": "FwmU00-l_vHl"
      },
      "source": [
        "**No, the function is not defined everywhere, because at the point x=-4, the function equals to 1/0, which is undefined.**"
      ]
    },
    {
      "cell_type": "markdown",
      "metadata": {
        "id": "5ZTjsSISBc-I"
      },
      "source": [
        "##Problem 4\n",
        "A company is interested in predicting the amount of revenue it will receive depending on the price it charges for a particular item. Using the data from Table 1.6, the company arrives at the following quadratic function to model revenue 𝑅 (in thousands of dollars) as a function of price per item 𝑝:\n",
        "\n",
        "$𝑅(𝑝)=p(−1.04𝑝+26)=−1.04𝑝^2+26𝑝$\n",
        "for $0≤𝑥≤25$.\n",
        "\n",
        "- Predict the revenue if the company sells the item at a price of 𝑝=$5 and 𝑝=$17.\n",
        "- Find the zeros of this function and interpret the meaning of the zeros.\n",
        "\n",
        "- Sketch a graph of 𝑅.\n",
        "\n",
        "- Use the graph to determine the value of 𝑝 that maximizes revenue. Find the maximum revenue.\n",
        "\n"
      ]
    },
    {
      "cell_type": "code",
      "metadata": {
        "colab": {
          "base_uri": "https://localhost:8080/"
        },
        "id": "m99mKehGBtQ_",
        "outputId": "be68e704-3d2e-4bf4-9a48-6fd0a7f46a15"
      },
      "source": [
        "5*(-1.04*5+26)"
      ],
      "execution_count": null,
      "outputs": [
        {
          "output_type": "execute_result",
          "data": {
            "text/plain": [
              "104.0"
            ]
          },
          "metadata": {},
          "execution_count": 47
        }
      ]
    },
    {
      "cell_type": "code",
      "metadata": {
        "colab": {
          "base_uri": "https://localhost:8080/"
        },
        "id": "RHMZGGAeCQvC",
        "outputId": "2024e974-3db6-4a47-95e8-7b1864cae7cd"
      },
      "source": [
        "17*(-1.04*17+26)"
      ],
      "execution_count": null,
      "outputs": [
        {
          "output_type": "execute_result",
          "data": {
            "text/plain": [
              "141.44"
            ]
          },
          "metadata": {},
          "execution_count": 48
        }
      ]
    },
    {
      "cell_type": "markdown",
      "metadata": {
        "id": "eP3Y75laCZp6"
      },
      "source": [
        "**When price = 5, revenue is 104**\n",
        "\n",
        "**When price = 17, revenue is 141.44**"
      ]
    },
    {
      "cell_type": "markdown",
      "metadata": {
        "id": "oyyEPs4vBGWj"
      },
      "source": [
        "When $R(p) = 0$\n",
        "\n",
        "$p(-1.04p+26)=0$ \n",
        "\n",
        "Therefore $R(p)=0$ when $p=0$ and when $-1.04p+26=0$ \n",
        "And in the latter case the price would be $p=25$\n",
        "\n",
        "**Therefore, the zeros are the points where the company makes no revenue (when the price is set at 25), but it’s also the point where they sell it for a price of 0.**"
      ]
    },
    {
      "cell_type": "code",
      "metadata": {
        "id": "aGOp_9nhCeZ0"
      },
      "source": [
        "def R(p): \n",
        "  return -1.04*p**2+26*p\n",
        "  p = np.linspace(0, 25, 1000)"
      ],
      "execution_count": null,
      "outputs": []
    },
    {
      "cell_type": "code",
      "metadata": {
        "colab": {
          "base_uri": "https://localhost:8080/",
          "height": 296
        },
        "id": "9gbLyh3VEJEI",
        "outputId": "d87ac341-861e-4995-c82d-310aa78f8b81"
      },
      "source": [
        "p = np.linspace(0, 25, 1000)\n",
        "plt.plot(p, R(p))\n",
        "plt.xlabel('price')\n",
        "plt.ylabel('revenue')"
      ],
      "execution_count": null,
      "outputs": [
        {
          "output_type": "execute_result",
          "data": {
            "text/plain": [
              "Text(0, 0.5, 'revenue')"
            ]
          },
          "metadata": {},
          "execution_count": 40
        },
        {
          "output_type": "display_data",
          "data": {
            "image/png": "[encoded data removed]",
            "text/plain": [
              "<Figure size 432x288 with 1 Axes>"
            ]
          },
          "metadata": {
            "needs_background": "light"
          }
        }
      ]
    },
    {
      "cell_type": "markdown",
      "metadata": {
        "id": "-M4BVDMfJUQj"
      },
      "source": [
        "**The value of P that maximize revenue would be around 12.5.**"
      ]
    },
    {
      "cell_type": "markdown",
      "metadata": {
        "id": "R1Tpil2XJb9x"
      },
      "source": [
        "##Problem 5\n",
        "Starting with the function $𝑓(𝑥)=𝑥^2$ on the domain 𝑥∈[−5,5], describe the effect of the following transformations:\n",
        "\n",
        "$𝑓(𝑥)=−𝑥^2$\n",
        "\n",
        "$𝑓(𝑥)=𝑥^2+3$\n",
        "\n",
        "$𝑓(𝑥)=(𝑥−1)^2$\n",
        "\n",
        "Your answer should be a single plot with 4 appropriate labels.\n",
        "\n"
      ]
    },
    {
      "cell_type": "code",
      "metadata": {
        "colab": {
          "base_uri": "https://localhost:8080/",
          "height": 282
        },
        "id": "fRtCs1EFKGoX",
        "outputId": "bfb47443-320e-4410-ec83-7cc0d209e9b5"
      },
      "source": [
        "def f(x):\n",
        "  return x**2\n",
        "def g(x):\n",
        "  return -x**2\n",
        "def h(x):\n",
        "  return x**2+3\n",
        "def j(x):\n",
        "  return (x-1)**2\n",
        "x = np.linspace(-5, 5, 1000)\n",
        "plt.plot (x, f(x))\n",
        "plt.plot (x, g(x))\n",
        "plt.plot (x, h(x))\n",
        "plt.plot (x, j(x))"
      ],
      "execution_count": null,
      "outputs": [
        {
          "output_type": "execute_result",
          "data": {
            "text/plain": [
              "[<matplotlib.lines.Line2D at 0x7f0d2d288510>]"
            ]
          },
          "metadata": {},
          "execution_count": 53
        },
        {
          "output_type": "display_data",
          "data": {
            "image/png": "[encoded data removed]",
            "text/plain": [
              "<Figure size 432x288 with 1 Axes>"
            ]
          },
          "metadata": {
            "needs_background": "light"
          }
        }
      ]
    },
    {
      "cell_type": "markdown",
      "metadata": {
        "id": "n1g0j03zwBsU"
      },
      "source": [
        "##Problem 6\n",
        "In the context of artificial neural networks, the rectifier is an activation function defined as the positive part of its argument:\n",
        "\n",
        "$𝑓(𝑥)=𝑥^+=max(0,𝑥)$\n",
        "\n",
        "where x is the input to a neuron. This is also known as a ramp function and is analogous to half-wave rectification in electrical engineering. We can rewrite this as a piecewise function:\n",
        "\n",
        "$𝑓(𝑥)={x0 if 𝑥>0,otherwise.\n",
        "Define and plot the function on the domain 𝑥∈[−5,5] below."
      ]
    },
    {
      "cell_type": "code",
      "metadata": {
        "colab": {
          "base_uri": "https://localhost:8080/",
          "height": 282
        },
        "id": "PyTAyiisxQtz",
        "outputId": "36b950aa-bdde-4d2e-dce4-8dedf5fa88fe"
      },
      "source": [
        "def f(x):\n",
        "  return -x\n",
        "x = np.linspace(-5, 5, 1000)\n",
        "plt.plot(x, f(x))"
      ],
      "execution_count": null,
      "outputs": [
        {
          "output_type": "execute_result",
          "data": {
            "text/plain": [
              "[<matplotlib.lines.Line2D at 0x7fb3c6a01d10>]"
            ]
          },
          "metadata": {},
          "execution_count": 5
        },
        {
          "output_type": "display_data",
          "data": {
            "image/png": "[encoded data removed]",
            "text/plain": [
              "<Figure size 432x288 with 1 Axes>"
            ]
          },
          "metadata": {
            "needs_background": "light"
          }
        }
      ]
    },
    {
      "cell_type": "markdown",
      "metadata": {
        "id": "Sm60sDcsxyIx"
      },
      "source": [
        "##Problem 7\n",
        "The cost of mailing a letter is a function of the weight of the letter. Suppose the cost of mailing a letter is 49¢ for the first ounce and 21¢ for each additional ounce. Write a piecewise-defined function describing the cost 𝐶 as a function of the weight 𝑥 for 0≤𝑥≤3, where 𝐶 is measured in cents and 𝑥 is measured in ounces."
      ]
    },
    {
      "cell_type": "markdown",
      "metadata": {
        "id": "xoCD_l8kx76N"
      },
      "source": [
        "$C(x)=21(x-1)+49, x∈[0,3]$"
      ]
    },
    {
      "cell_type": "markdown",
      "metadata": {
        "id": "TWU258fYySxl"
      },
      "source": [
        "##Problem 8\n",
        "Given the pair of points 𝐴=(−3,3) and 𝐵=(2,1), find:\n",
        "\n",
        "- The slope of the line through the points\n",
        "\n",
        "- An equation of a line through the points\n",
        "\n",
        "- Plot the points and line on the same graph.\n",
        "\n"
      ]
    },
    {
      "cell_type": "markdown",
      "metadata": {
        "id": "L1A_dId-HVpo"
      },
      "source": [
        "**1) the slope**\n",
        "\n",
        "$m=(y2-y1)/(x2-x1)$\n",
        "\n",
        "$m=(3-1)/(-3-2)$\n",
        "\n",
        "$m=2/-5$\n",
        "\n",
        "The slope is -0.4"
      ]
    },
    {
      "cell_type": "markdown",
      "metadata": {
        "id": "Re65ahfPH9O4"
      },
      "source": [
        "**2)the equation**\n",
        "\n",
        "$y=mx+b$\n",
        "\n",
        "$1=2(-0.4)+b$\n",
        "\n",
        "$1=-0.8+b$\n",
        "\n",
        "$b = 1.8$\n",
        "\n",
        "The equation is $y=0.4x+1.8$"
      ]
    },
    {
      "cell_type": "code",
      "metadata": {
        "colab": {
          "base_uri": "https://localhost:8080/",
          "height": 265
        },
        "id": "IRsq6y0CI7EY",
        "outputId": "106c46f0-30c1-4195-f04b-08ca02533dea"
      },
      "source": [
        "def f(x):\n",
        "  return 0.4*x+1.8\n",
        "x=np.linspace(-4, 3, 1000)\n",
        "plt.plot(x,f(x))"
      ],
      "execution_count": null,
      "outputs": [
        {
          "output_type": "display_data",
          "data": {
            "image/png": "[encoded data removed]",
            "text/plain": [
              "<Figure size 432x288 with 1 Axes>"
            ]
          },
          "metadata": {
            "needs_background": "light"
          }
        }
      ]
    },
    {
      "cell_type": "markdown",
      "metadata": {
        "id": "uROHGtpZNmVV"
      },
      "source": [
        "*(I dont know how to mark the points on the graph)*"
      ]
    },
    {
      "cell_type": "markdown",
      "metadata": {
        "id": "fe_cjfNtNuXe"
      },
      "source": [
        "##Problem 9\n",
        "Total online shopping during the Christmas holidays has increased dramatically during the past 5 years. In 2012 (𝑡=0), total online holiday sales were 42.3 billion USD, whereas in 2013 they were 48.1 billion USD.\n",
        "\n",
        "- Find a linear function 𝑆 that estimates the total online holiday sales in the year t.\n",
        "\n",
        "- Interpret the slope of the graph of S.\n",
        "\n",
        "- Use your equation to predict the year when online shopping during Christmas will reach $60 billion.\n",
        "\n",
        "- Plot your function and its prediction."
      ]
    },
    {
      "cell_type": "markdown",
      "metadata": {
        "id": "cWlZC5PzR_U2"
      },
      "source": [
        "**1)Find linear function**\n",
        "\n",
        "$S(t)=mt+b$\n",
        "\n",
        "When $t=0, S(t)=42.3$\n",
        "\n",
        "When $t=1, S(t)=48.1$\n",
        "\n",
        "The slope $m = (48.1-42.3)/1 = 5.8$\n",
        "\n",
        "Therefore, the function is $S(t)=5.8t+42.3$\n",
        "\n",
        "**2) Interpret the slope**\n",
        "\n",
        "The coefficient of $t$ is the slope, which in this case equals to 5.8. As 5.8 is a positive number, it indicates that the slope is positive. \n",
        "\n",
        "**3) Predicting**\n",
        "\n",
        "$S(t)=5.8t+42.3$\n",
        "\n",
        "$60=5.8t+42.3$\n"
      ]
    },
    {
      "cell_type": "code",
      "metadata": {
        "colab": {
          "base_uri": "https://localhost:8080/"
        },
        "id": "rIqgOiidTnB4",
        "outputId": "0e4e6634-ae05-4363-e6d2-eccf5b626489"
      },
      "source": [
        "(60-42.3)/5.8"
      ],
      "execution_count": null,
      "outputs": [
        {
          "output_type": "execute_result",
          "data": {
            "text/plain": [
              "3.051724137931035"
            ]
          },
          "metadata": {},
          "execution_count": 42
        }
      ]
    },
    {
      "cell_type": "markdown",
      "metadata": {
        "id": "K8NCrObDTxPN"
      },
      "source": [
        "$t=3.05$\n",
        "\n",
        "The year is 2012+3.05 which is approximately 2015.\n",
        "\n",
        "**4) Plotting**\n"
      ]
    },
    {
      "cell_type": "code",
      "metadata": {
        "colab": {
          "base_uri": "https://localhost:8080/",
          "height": 296
        },
        "id": "3FE0oJyGUG1r",
        "outputId": "ed719f8c-e6a7-42ba-fbc9-10ff4c470b77"
      },
      "source": [
        "def S(t):\n",
        "  return 5.8*t+42.3\n",
        "t = np.linspace(0, 10, 1000)\n",
        "plt.plot(t, S(t))\n",
        "plt.xlabel('time')\n",
        "plt.ylabel('sales')"
      ],
      "execution_count": null,
      "outputs": [
        {
          "output_type": "execute_result",
          "data": {
            "text/plain": [
              "Text(0, 0.5, 'sales')"
            ]
          },
          "metadata": {},
          "execution_count": 47
        },
        {
          "output_type": "display_data",
          "data": {
            "image/png": "[encoded data removed]",
            "text/plain": [
              "<Figure size 432x288 with 1 Axes>"
            ]
          },
          "metadata": {
            "needs_background": "light"
          }
        }
      ]
    },
    {
      "cell_type": "markdown",
      "metadata": {
        "id": "gbDnRGlKPl3c"
      },
      "source": [
        "##Problem 10\n",
        "A house purchased for $250,000 is expected to be worth twice its purchase price in 18 years.\n",
        "\n",
        "- Find a linear function that models the price P of the house versus the number of years t since the original purchase.\n",
        "\n",
        "- Interpret the slope of the graph of P.\n",
        "\n",
        "- Find the price of the house 15 years from when it was originally purchased.\n",
        "\n"
      ]
    },
    {
      "cell_type": "markdown",
      "metadata": {
        "id": "KXCYUnTpUqVA"
      },
      "source": [
        "**1)Find linear function**\n",
        "\n",
        "$P(t)=mt+b$\n",
        "\n",
        "When $t=0, S(t)=250,000$\n",
        "\n",
        "When $t=18, S(t)=250,000*2=500,000$\n",
        "\n",
        "The slope $m = (500,000-250,000)/18$"
      ]
    },
    {
      "cell_type": "code",
      "metadata": {
        "colab": {
          "base_uri": "https://localhost:8080/"
        },
        "id": "0gtWuXcUVV0V",
        "outputId": "86a2899a-9901-45fa-d19f-c2a112bca871"
      },
      "source": [
        "250000/18"
      ],
      "execution_count": null,
      "outputs": [
        {
          "output_type": "execute_result",
          "data": {
            "text/plain": [
              "13888.888888888889"
            ]
          },
          "metadata": {},
          "execution_count": 51
        }
      ]
    },
    {
      "cell_type": "markdown",
      "metadata": {
        "id": "Tei_30psVes6"
      },
      "source": [
        "$m=13888.89$\n",
        "\n",
        "Therefore, the linear function is $P(t)=13888.89t+250000$\n",
        "\n",
        "**2) Interpret the slope**\n",
        "\n",
        "The coefficient of $t$ is the slope, which in this case equals to $13888.89$. As $13888.89$ is a positive number, it indicates that the slope is positive. \n",
        "\n",
        "**3) Predicting**\n",
        "$P(t)=13888.89t+250000, t=15$\n"
      ]
    },
    {
      "cell_type": "code",
      "metadata": {
        "colab": {
          "base_uri": "https://localhost:8080/"
        },
        "id": "CBI84KfyWM_p",
        "outputId": "e7ca56fc-36e1-4949-dc8f-0502b2af0e2b"
      },
      "source": [
        "13888.89*15+250000"
      ],
      "execution_count": null,
      "outputs": [
        {
          "output_type": "execute_result",
          "data": {
            "text/plain": [
              "458333.35"
            ]
          },
          "metadata": {},
          "execution_count": 52
        }
      ]
    },
    {
      "cell_type": "markdown",
      "metadata": {
        "id": "GVl41wWfWSb6"
      },
      "source": [
        "##Problem 11\n",
        "Define and plot the following functions on the domain 𝑥∈[−6,6]:\n",
        "\n",
        "$𝑓(𝑥)=sin𝑥$\n",
        "\n",
        "$𝑔(𝑥)=ln(𝑥)$\n",
        "\n",
        "$ℎ(𝑥)=𝑒^x$\n",
        "\n",
        "$𝑗(𝑥)=sin(𝑥^2)$\n",
        "\n"
      ]
    },
    {
      "cell_type": "code",
      "metadata": {
        "id": "FAv3aUAGWZsv"
      },
      "source": [
        "def f(x):\n",
        "  return np.sin(x)\n",
        "def g(x):\n",
        "  return np.log(x)\n",
        "def h(x):\n",
        "  return np.e**x\n",
        "def j(x):\n",
        "  return np.sin(x**2)\n"
      ],
      "execution_count": null,
      "outputs": []
    },
    {
      "cell_type": "code",
      "metadata": {
        "colab": {
          "base_uri": "https://localhost:8080/",
          "height": 316
        },
        "id": "F4SmyZnE2FdT",
        "outputId": "2ea7c569-9dff-4cbc-bf98-efa04cd50ada"
      },
      "source": [
        "x=np.linspace(-6,6,1000)\n",
        "plt.plot (x, f(x))\n",
        "plt.plot (x, g(x))\n",
        "plt.plot (x, h(x))\n",
        "plt.plot (x, j(x))"
      ],
      "execution_count": null,
      "outputs": [
        {
          "output_type": "stream",
          "name": "stderr",
          "text": [
            "/usr/local/lib/python3.7/dist-packages/ipykernel_launcher.py:4: RuntimeWarning: invalid value encountered in log\n",
            "  after removing the cwd from sys.path.\n"
          ]
        },
        {
          "output_type": "execute_result",
          "data": {
            "text/plain": [
              "[<matplotlib.lines.Line2D at 0x7f56a7b909d0>]"
            ]
          },
          "metadata": {},
          "execution_count": 6
        },
        {
          "output_type": "display_data",
          "data": {
            "image/png": "[encoded data removed]",
            "text/plain": [
              "<Figure size 432x288 with 1 Axes>"
            ]
          },
          "metadata": {
            "needs_background": "light"
          }
        }
      ]
    },
    {
      "cell_type": "code",
      "metadata": {
        "id": "QE6qUxrI4Fak"
      },
      "source": [
        ""
      ],
      "execution_count": null,
      "outputs": []
    },
    {
      "cell_type": "markdown",
      "metadata": {
        "id": "v2lmu351X0FA"
      },
      "source": [
        "##Problem 12\n",
        "\n",
        "The number of hours of daylight in a northeast city is modeled by the function\n",
        "\n",
        "$𝑁(𝑡)=12+3sin[(2𝜋/365)(𝑡−79)]$,\n",
        "\n",
        "where t is the number of days after January 1.\n",
        "\n",
        "- Find the amplitude and period.\n",
        "\n",
        "- Determine the number of hours of daylight on the longest day of the year.\n",
        "\n",
        "- Determine the number of hours of daylight on the shortest day of the year.\n",
        "\n",
        "- Determine the number of hours of daylight 90 days after January 1.\n",
        "\n",
        "- Sketch the graph of the function for one period starting on January 1.\n",
        "\n"
      ]
    },
    {
      "cell_type": "code",
      "metadata": {
        "colab": {
          "base_uri": "https://localhost:8080/",
          "height": 282
        },
        "id": "kfXtQD9M4Gw_",
        "outputId": "7ab82b7c-9b09-4ccc-c569-af4fd8502754"
      },
      "source": [
        "def N(t): \n",
        "  return 12 + 3*np.sin((2*np.pi)/365*(t - 79))\n",
        "t=np.linspace(0, 364, 1000)\n",
        "plt.plot(t, N(t))"
      ],
      "execution_count": null,
      "outputs": [
        {
          "output_type": "execute_result",
          "data": {
            "text/plain": [
              "[<matplotlib.lines.Line2D at 0x7f56a715de50>]"
            ]
          },
          "metadata": {},
          "execution_count": 15
        },
        {
          "output_type": "display_data",
          "data": {
            "image/png": "[encoded data removed]",
            "text/plain": [
              "<Figure size 432x288 with 1 Axes>"
            ]
          },
          "metadata": {
            "needs_background": "light"
          }
        }
      ]
    }
  ]
}